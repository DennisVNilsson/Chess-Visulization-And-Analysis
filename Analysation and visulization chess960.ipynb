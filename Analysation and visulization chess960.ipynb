{
 "cells": [
  {
   "cell_type": "code",
   "execution_count": 1,
   "metadata": {},
   "outputs": [],
   "source": [
    "# Imports\n",
    "import pandas as pd\n",
    "import matplotlib.pyplot as plt\n",
    "import seaborn as sns\n",
    "import numpy as np"
   ]
  },
  {
   "cell_type": "code",
   "execution_count": 2,
   "metadata": {},
   "outputs": [
    {
     "name": "stdout",
     "output_type": "stream",
     "text": [
      "PGN            1. c4 Ng6 2. b3 O-O 3. Ng3 c5 4. O-O d5 5. cxd...\n",
      "Event                                        Rated Chess960 game\n",
      "Result                                                       0-1\n",
      "BlackElo                                                    2482\n",
      "WhiteElo                                                    2376\n",
      "FEN            nbbqrkrn/pppppppp/8/8/8/8/PPPPPPPP/NBBQRKRN w ...\n",
      "Termination                                               Normal\n",
      "TimeControl                                                 30+0\n",
      "UTCTime                                                 00:00:14\n",
      "Name: 1, dtype: object\n"
     ]
    }
   ],
   "source": [
    "# Load data into pandas dataframe, and take a look. \n",
    "games_df = pd.read_csv('2021-03new.csv')\n",
    "print(games_df.iloc[1])"
   ]
  },
  {
   "cell_type": "code",
   "execution_count": 4,
   "metadata": {
    "pycharm": {
     "name": "#%%\n"
    }
   },
   "outputs": [],
   "source": [
    "# Lets also look at some distributions \n",
    "\n",
    "def general_dist(label, print_now=False):\n",
    "    dist_list = games_df.groupby(label).count().iloc[:, 1] \n",
    "    if print_now:\n",
    "        print(dist_list)\n",
    "        \n",
    "    plt.figure(figsize=(10, 8))\n",
    "    dist_list.plot.bar(rot=0)\n",
    "    plt.xlabel(label, fontsize=16)\n",
    "    plt.title(\"Distribution of Different %ss\" % label, fontsize=19)\n",
    "    plt.show()\n",
    "    \n",
    "general_dist('FEN')\n",
    "general_dist('Termination')\n",
    "#general_dist('TimeControl')\n",
    "general_dist('Result')\n"
   ]
  },
  {
   "cell_type": "code",
   "execution_count": 17,
   "metadata": {},
   "outputs": [
    {
     "name": "stdout",
     "output_type": "stream",
     "text": [
      "['1', 'f4', 'f5', '2', 'Nb3', 'Bxb3', '3', 'axb3', 'g6', '4', 'Nc3', 'Nb6', '5', 'Bc5', 'd6', '6', 'Ba3', 'N8d7', '7', '', 'Nf6', '8\\r\\ng3', 'h5', '9', 'e4', 'Ng4', '10', 'exf5', 'Bd4+', '11', 'Kg2', 'gxf5', '12', 'Ne2', 'Bf6', '13', 'c3', 'h4', '14', 'd4', 'hxg3\\r\\n15', 'hxg3', 'Rh8', '16', 'Rd3', 'Rh2+', '17', 'Kf3', 'Qe6']\n"
     ]
    }
   ],
   "source": [
    "# Creating a heatmap visualizing the move tendencies requires us to, for every move in every game, count its' occurence. \n",
    "\n",
    "# Ignoring castling rights altogether. \n",
    "\n",
    "def prob_per_piece(games): \n",
    "    prob_dict = {}\n",
    "    pieces = ['P', 'B', 'N', 'R', 'Q', 'K']\n",
    "    pawn = ['a', 'b', 'c', 'd', 'e', 'f', 'g', 'h']\n",
    "    char_blacklist = ['O', '-', '.']\n",
    "    \n",
    "    # Creates a dictionary containing a board [a-h][1-8] for every peice in pieces. \n",
    "    for p in pieces:\n",
    "        chess_dict = {}\n",
    "        for horizontal in pawn:\n",
    "            for vertical in range(1, 9):\n",
    "                chess_dict[horizontal+str(vertical)] = 0\n",
    "        prob_dict[p] = chess_dict\n",
    "        \n",
    "    #print(prob_dict)\n",
    "    for game in games['PGN']:\n",
    "        moves = []\n",
    "        current_move = \"\"\n",
    "        for char in game:\n",
    "                if char == ' ':\n",
    "                    moves.append(current_move)\n",
    "                    current_move = \"\"\n",
    "                else:\n",
    "                    current_move = current_move + char\n",
    "                    continue\n",
    "        print(moves)\n",
    "\n",
    "prob_per_piece(games_df[:1])"
   ]
  },
  {
   "cell_type": "code",
   "execution_count": null,
   "metadata": {},
   "outputs": [],
   "source": []
  }
 ],
 "metadata": {
  "kernelspec": {
   "display_name": "Python 3",
   "language": "python",
   "name": "python3"
  },
  "language_info": {
   "codemirror_mode": {
    "name": "ipython",
    "version": 3
   },
   "file_extension": ".py",
   "mimetype": "text/x-python",
   "name": "python",
   "nbconvert_exporter": "python",
   "pygments_lexer": "ipython3",
   "version": "3.9.1"
  }
 },
 "nbformat": 4,
 "nbformat_minor": 1
}