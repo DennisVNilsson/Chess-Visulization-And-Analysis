{
 "cells": [
  {
   "cell_type": "code",
   "execution_count": 3,
   "metadata": {
    "pycharm": {
     "is_executing": true
    }
   },
   "outputs": [],
   "source": [
    "# Imports\n",
    "import pandas as pd\n",
    "import matplotlib.pyplot as plt\n",
    "import seaborn as sns\n",
    "import numpy as np"
   ]
  },
  {
   "cell_type": "code",
   "execution_count": 7,
   "metadata": {},
   "outputs": [
    {
     "name": "stdout",
     "output_type": "stream",
     "text": [
      "                                                 PGN                Event  \\\n",
      "0  1. f4 { [%clk 0:03:00] } 1... f5 { [%clk 0:03:...  Rated Chess960 game   \n",
      "1  1. c4 { [%clk 0:00:30] } 1... Ng6 { [%clk 0:00...  Rated Chess960 game   \n",
      "2  1. g3 { [%clk 0:03:00] } 1... b6 { [%clk 0:03:...  Rated Chess960 game   \n",
      "3  1. b3 { [%clk 0:01:00] } 1... e6 { [%clk 0:01:...  Rated Chess960 game   \n",
      "4  1. b3 { [%clk 0:00:30] } 1... e6 { [%clk 0:00:...  Rated Chess960 game   \n",
      "\n",
      "  Result  BlackElo  WhiteElo  \\\n",
      "0    0-1      1704      1754   \n",
      "1    0-1      2482      2376   \n",
      "2    1-0      1453      1523   \n",
      "3    1-0      1763      1900   \n",
      "4    1-0      2372      2487   \n",
      "\n",
      "                                                 FEN   Termination  \\\n",
      "0  nnqrkrbb/pppppppp/8/8/8/8/PPPPPPPP/NNQRKRBB w ...        Normal   \n",
      "1  nbbqrkrn/pppppppp/8/8/8/8/PPPPPPPP/NBBQRKRN w ...        Normal   \n",
      "2  brnqknrb/pppppppp/8/8/8/8/PPPPPPPP/BRNQKNRB w ...        Normal   \n",
      "3  bnrqkbrn/pppppppp/8/8/8/8/PPPPPPPP/BNRQKBRN w ...  Time forfeit   \n",
      "4  bnqrnbkr/pppppppp/8/8/8/8/PPPPPPPP/BNQRNBKR w ...        Normal   \n",
      "\n",
      "  TimeControl   UTCTime  \n",
      "0       180+0  00:00:11  \n",
      "1        30+0  00:00:14  \n",
      "2       180+0  00:00:17  \n",
      "3        60+0  00:00:33  \n",
      "4        30+0  00:00:40  \n",
      "PGN            1. c4 { [%clk 0:00:30] } 1... Ng6 { [%clk 0:00...\n",
      "Event                                        Rated Chess960 game\n",
      "Result                                                       0-1\n",
      "BlackElo                                                    2482\n",
      "WhiteElo                                                    2376\n",
      "FEN            nbbqrkrn/pppppppp/8/8/8/8/PPPPPPPP/NBBQRKRN w ...\n",
      "Termination                                               Normal\n",
      "TimeControl                                                 30+0\n",
      "UTCTime                                                 00:00:14\n",
      "Name: 1, dtype: object\n"
     ]
    }
   ],
   "source": [
    "# Load data into pandas dataframe, and take a look. \n",
    "games_df = pd.read_csv('2021-03.csv')\n",
    "print(games_df.head())\n",
    "print(games_df.iloc[1])"
   ]
  },
  {
   "cell_type": "code",
   "execution_count": null,
   "metadata": {},
   "outputs": [],
   "source": [
    "# To iterate row by row, one would: \n",
    "\n",
    "for index, row in games_df.iterrows():\n",
    "    # [code here]\n"
   ]
  },
  {
   "cell_type": "code",
   "execution_count": null,
   "metadata": {},
   "outputs": [],
   "source": []
  }
 ],
 "metadata": {
  "kernelspec": {
   "display_name": "Python 3",
   "language": "python",
   "name": "python3"
  },
  "language_info": {
   "codemirror_mode": {
    "name": "ipython",
    "version": 3
   },
   "file_extension": ".py",
   "mimetype": "text/x-python",
   "name": "python",
   "nbconvert_exporter": "python",
   "pygments_lexer": "ipython3",
   "version": "3.9.1"
  }
 },
 "nbformat": 4,
 "nbformat_minor": 1
}